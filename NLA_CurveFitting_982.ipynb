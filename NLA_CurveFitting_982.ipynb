{
 "cells": [
  {
   "cell_type": "code",
   "execution_count": 1,
   "metadata": {},
   "outputs": [],
   "source": [
    "import numpy as np\n",
    "from numpy import linalg as lg"
   ]
  },
  {
   "cell_type": "code",
   "execution_count": 2,
   "metadata": {},
   "outputs": [],
   "source": [
    "A = np.array([[10    , 62.1  ],\n",
    "              [12.5  , 77.3  ],\n",
    "              [15    , 92.5  ],\n",
    "              [17.5  , 104   ],\n",
    "              [20    , 112.9 ],\n",
    "              [22.5  , 121.9 ],\n",
    "              [25    , 125   ],\n",
    "              [27.5  , 129.4 ],\n",
    "              [30    , 134   ],\n",
    "              [32.5  , 138.2 ],\n",
    "              [35    , 142.3 ],\n",
    "              [37.5  , 143.2 ],\n",
    "              [40    , 144.6 ],\n",
    "              [42.5  , 147.2 ],\n",
    "              [45    , 147.8 ],\n",
    "              [47.5  , 149.1 ],\n",
    "              [50    , 150.9 ]])"
   ]
  },
  {
   "cell_type": "code",
   "execution_count": 3,
   "metadata": {},
   "outputs": [],
   "source": [
    "x = A[:, 0].reshape(A.shape[0], 1)\n",
    "y = A[:, 1].reshape(A.shape[0], 1)"
   ]
  },
  {
   "cell_type": "markdown",
   "metadata": {},
   "source": [
    "### الف) چند جمله ای حداکثر از درجه ۵"
   ]
  },
  {
   "cell_type": "code",
   "execution_count": 4,
   "metadata": {},
   "outputs": [
    {
     "name": "stdout",
     "output_type": "stream",
     "text": [
      "a0 =  [-58.1351152]\n",
      "a1 =  [17.43434381]\n",
      "a2 =  [-0.68198039]\n",
      "a3 =  [0.01513705]\n",
      "a4 =  [-0.00018197]\n"
     ]
    }
   ],
   "source": [
    "v = np.ones((A.shape[0], 6))\n",
    "for j in range(1, 5+1):    \n",
    "    for i in range(A.shape[0]):\n",
    "        v[i, j] = pow(x[i], j)\n",
    "        \n",
    "b = v.T.dot(y)\n",
    "a = lg.inv(v.T.dot(v)).dot(b)\n",
    "\n",
    "for k in range(5):\n",
    "    print('a'+str(k)+' = ', a[k])"
   ]
  },
  {
   "cell_type": "code",
   "execution_count": 5,
   "metadata": {},
   "outputs": [],
   "source": [
    "### If x == 1\n",
    "# np.polyval(a, 1)"
   ]
  },
  {
   "cell_type": "markdown",
   "metadata": {},
   "source": [
    "### y = a exp^bx + c ب) منحنی نمایی به شکل "
   ]
  },
  {
   "cell_type": "code",
   "execution_count": 6,
   "metadata": {},
   "outputs": [
    {
     "name": "stdout",
     "output_type": "stream",
     "text": [
      "y   =   1.0258563893122723 e^ [6.15914946] x  +  c\n"
     ]
    }
   ],
   "source": [
    "v = np.ones((A.shape[0], 2)) \n",
    "for j in range(2):\n",
    "    for i in range(A.shape[0]):\n",
    "        v[i, j] = pow(x[i], j)\n",
    "        \n",
    "lny = np.log2(y)\n",
    "H = lg.inv(v.T.dot(v)).dot(v.T.dot(lny))\n",
    "\n",
    "a_ = H[1]\n",
    "b = H[0]\n",
    "a = np.exp(a_)\n",
    "\n",
    "print('y   =  ', a[0], 'e^', b, 'x',' + ' ' c')"
   ]
  }
 ],
 "metadata": {
  "kernelspec": {
   "display_name": "Python 3",
   "language": "python",
   "name": "python3"
  },
  "language_info": {
   "codemirror_mode": {
    "name": "ipython",
    "version": 3
   },
   "file_extension": ".py",
   "mimetype": "text/x-python",
   "name": "python",
   "nbconvert_exporter": "python",
   "pygments_lexer": "ipython3",
   "version": "3.7.4"
  }
 },
 "nbformat": 4,
 "nbformat_minor": 2
}
