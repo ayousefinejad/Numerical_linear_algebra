{
 "cells": [
  {
   "cell_type": "code",
   "execution_count": 1,
   "metadata": {},
   "outputs": [],
   "source": [
    "import numpy as np\n",
    "from numpy import linalg as lg\n",
    "import pandas as pd\n",
    "import copy"
   ]
  },
  {
   "cell_type": "markdown",
   "metadata": {},
   "source": [
    "# File First Or Second\n"
   ]
  },
  {
   "cell_type": "code",
   "execution_count": 2,
   "metadata": {
    "scrolled": true
   },
   "outputs": [
    {
     "name": "stdout",
     "output_type": "stream",
     "text": [
      "if test file_first Enter: f1 // if test file_second Enter: f2 // Choose:  f1\n"
     ]
    }
   ],
   "source": [
    "file_first_A =  \"A.csv\"\n",
    "file_first_b =  \"b.csv\"\n",
    "\n",
    "file_second_A = \"A2.csv\"\n",
    "file_second_b = \"b2.csv\"\n",
    "\n",
    "while True:\n",
    "    file_name = input('if test file_first Enter: f1 // if test file_second Enter: f2 // Choose:  ')\n",
    "    if file_name == 'f1':\n",
    "        file_name_A = file_first_A\n",
    "        file_name_b = file_first_b\n",
    "        break\n",
    "    if file_name == 'f2':\n",
    "        file_name_A = file_second_A\n",
    "        file_name_b = file_second_b\n",
    "        break\n",
    "        "
   ]
  },
  {
   "cell_type": "code",
   "execution_count": 3,
   "metadata": {},
   "outputs": [],
   "source": [
    "file_A = open(file_name_A)\n",
    "line1 = file_A.readlines()\n",
    "df_A = pd.DataFrame()\n",
    "for i in range(1, int(line1[0].split()[0])+1):\n",
    "    df_A[i-1] = line1[i].split()\n",
    "df_A = df_A.T.astype('float')\n",
    "# print(df1_A)\n",
    "\n",
    "file_b = open(file_name_b)\n",
    "line2 = file_b.readlines()\n",
    "df_b = pd.DataFrame()\n",
    "for j in range(int(line1[0].split()[0])):\n",
    "    df_b[j] = line2[j].split()\n",
    "df_b.index = [int(line1[0].split()[0])]\n",
    "df_b = df_b.T.astype('float')\n",
    "# print(df1_b)"
   ]
  },
  {
   "cell_type": "code",
   "execution_count": 4,
   "metadata": {},
   "outputs": [],
   "source": [
    "A = df_A.to_numpy()\n",
    "b = df_b.to_numpy()"
   ]
  },
  {
   "cell_type": "code",
   "execution_count": 5,
   "metadata": {
    "scrolled": true
   },
   "outputs": [
    {
     "name": "stdout",
     "output_type": "stream",
     "text": [
      "Maximum number of repetitions: 10\n"
     ]
    }
   ],
   "source": [
    "N = int(input('Maximum number of repetitions: '))"
   ]
  },
  {
   "cell_type": "code",
   "execution_count": 6,
   "metadata": {},
   "outputs": [
    {
     "name": "stdout",
     "output_type": "stream",
     "text": [
      "eps: 0.001\n"
     ]
    }
   ],
   "source": [
    "eps = float(input('eps: '))"
   ]
  },
  {
   "cell_type": "code",
   "execution_count": 7,
   "metadata": {},
   "outputs": [
    {
     "name": "stdout",
     "output_type": "stream",
     "text": [
      "w: 1.2\n"
     ]
    }
   ],
   "source": [
    "w = float(input('w: '))"
   ]
  },
  {
   "cell_type": "markdown",
   "metadata": {},
   "source": [
    "#### w/a[i][j] ( b[i] - Z1 - Z2) + (1-w)x[i]  =>   w/a * P  =>  Q*p  +C"
   ]
  },
  {
   "cell_type": "code",
   "execution_count": 8,
   "metadata": {},
   "outputs": [
    {
     "name": "stdout",
     "output_type": "stream",
     "text": [
      "              0             1             2             3             4  \\\n",
      "0 -5.000000e-01  5.084892e+00 -5.961735e-02 -1.819013e+01  8.761740e+01   \n",
      "1 -6.675966e+05 -6.504668e+05 -1.576954e+05  2.447225e+06 -1.486894e+07   \n",
      "2  1.082912e+11  1.053899e+11  2.562664e+10 -3.963662e+11  2.410253e+12   \n",
      "3 -1.755259e+16 -1.708228e+16 -4.153751e+15  6.424562e+16 -3.906701e+17   \n",
      "4  2.845041e+21  2.768811e+21  6.732679e+20 -1.041336e+22  6.332243e+22   \n",
      "5 -4.611434e+26 -4.487875e+26 -1.091278e+26  1.687868e+27 -1.026372e+28   \n",
      "6  7.474521e+31  7.274249e+31  1.768816e+31 -2.735809e+32  1.663613e+33   \n",
      "7 -1.211521e+37 -1.179059e+37 -2.867016e+36  4.434383e+37 -2.696496e+38   \n",
      "8  1.963714e+42  1.911098e+42  4.647052e+41 -7.187546e+42  4.370662e+43   \n",
      "9 -3.182919e+47 -3.097636e+47 -7.532254e+46  1.165006e+48 -7.084263e+48   \n",
      "\n",
      "              5             6             7             8             9  \\\n",
      "0 -7.590481e+02  1.578241e+02 -3.550417e+02  9.128683e+02  3.303350e+03   \n",
      "1  1.225614e+08 -2.443970e+07  6.539103e+07 -1.483813e+08 -5.331057e+08   \n",
      "2 -1.986495e+13  3.960617e+12 -1.060265e+13  2.405067e+13  8.640924e+13   \n",
      "3  3.219844e+18 -6.419631e+17  1.718550e+18 -3.898294e+18 -1.400579e+19   \n",
      "4 -5.218939e+23  1.040537e+23 -2.785542e+23  6.318616e+23  2.270152e+24   \n",
      "5  8.459206e+28 -1.686572e+28  4.514993e+28 -1.024164e+29 -3.679615e+29   \n",
      "6 -1.371125e+34  2.733709e+33 -7.318204e+33  1.660033e+34  5.964168e+34   \n",
      "7  2.222411e+39 -4.430980e+38  1.186184e+39 -2.690693e+39 -9.667123e+39   \n",
      "8 -3.602234e+44  7.182029e+43 -1.922646e+44  4.361256e+44  1.566912e+45   \n",
      "9  5.838742e+49 -1.164111e+49  3.116354e+49 -7.069017e+49 -2.539757e+50   \n",
      "\n",
      "             10            11            12            13            14  \\\n",
      "0 -9.483413e+03 -9.227087e+03 -6.366449e+03 -8.864470e+03 -2.295128e+04   \n",
      "1  1.529715e+09  1.490413e+09  1.028465e+09  1.425952e+09  3.717643e+09   \n",
      "2 -2.479455e+14 -2.415756e+14 -1.667001e+14 -2.311229e+14 -6.025805e+14   \n",
      "3  4.018867e+19  3.915620e+19  2.701987e+19  3.746195e+19  9.767029e+19   \n",
      "4 -6.514050e+24 -6.346700e+24 -4.379561e+24 -6.072084e+24 -1.583106e+25   \n",
      "5  1.055841e+30  1.028716e+30  7.098687e+29  9.842042e+29  2.566004e+30   \n",
      "6 -1.711378e+35 -1.667412e+35 -1.150603e+35 -1.595264e+35 -4.159151e+35   \n",
      "7  2.773916e+40  2.702653e+40  1.864974e+40  2.585711e+40  6.741432e+40   \n",
      "8 -4.496149e+45 -4.380641e+45 -3.022876e+45 -4.191094e+45 -1.092697e+46   \n",
      "9  7.287661e+50  7.100437e+50  4.899680e+50  6.793207e+50  1.771116e+51   \n",
      "\n",
      "             15            16            17            18            19  \n",
      "0  8.457446e+03  1.863559e+04 -1.046237e+04  2.562267e+02  4.494991e+04  \n",
      "1 -1.361245e+09 -3.057808e+09  1.678722e+09 -3.038997e+07 -7.211197e+09  \n",
      "2  2.206338e+14  4.956389e+14 -2.720884e+14  4.923653e+12  1.168817e+15  \n",
      "3 -3.576181e+19 -8.033648e+19  4.410191e+19 -7.980582e+17 -1.894497e+20  \n",
      "4  5.796515e+24  1.302148e+25 -7.148334e+24  1.293546e+23  3.070728e+25  \n",
      "5 -9.395380e+29 -2.110608e+30  1.158650e+30 -2.096667e+28 -4.977243e+30  \n",
      "6  1.522866e+35  3.421016e+35 -1.878018e+35  3.398418e+33  8.067449e+35  \n",
      "7 -2.468364e+40 -5.545012e+40  3.044017e+40 -5.508385e+38 -1.307626e+41  \n",
      "8  4.000890e+45  8.987727e+45 -4.933948e+45  8.928360e+43  2.119488e+46  \n",
      "9 -6.484911e+50 -1.456791e+51  7.997273e+50 -1.447168e+49 -3.435409e+51  \n"
     ]
    }
   ],
   "source": [
    "\n",
    "n = np.size(b)\n",
    "df_err = pd.DataFrame()\n",
    "x = np.linspace(0, 0, num=n)\n",
    "x_old = np.linspace(0, 0, num=n)\n",
    "for k in range(N):\n",
    "    x_old = x.copy()\n",
    "    for i in range(n):\n",
    "        a = A[i]\n",
    "        Z1 = 0\n",
    "        Z2 = 0\n",
    "        for j in range(i):\n",
    "            Z1 = a[j] * x[j] + Z1\n",
    "\n",
    "        for j in range(i+1, n):\n",
    "            Z2 = a[j] * x[j] + Z2\n",
    "\n",
    "        if i == 0:\n",
    "            P = b[i] - Z2\n",
    "\n",
    "        elif i == n-1:\n",
    "            P = b[i] - Z1\n",
    "\n",
    "        else:\n",
    "            P = b[i] - Z1 - Z2\n",
    "\n",
    "        \n",
    "        Q = w/a[i]\n",
    "        C = (1 - w)*x[i]\n",
    "        x[i] = Q*P + C\n",
    "        \n",
    "    if lg.norm(x_old - x[i]) < eps:\n",
    "        break\n",
    "        \n",
    "        \n",
    "    df_err[k] = x\n",
    "df_err = df_err.T\n",
    "print(df_err)"
   ]
  },
  {
   "cell_type": "code",
   "execution_count": null,
   "metadata": {},
   "outputs": [],
   "source": []
  }
 ],
 "metadata": {
  "kernelspec": {
   "display_name": "Python 3",
   "language": "python",
   "name": "python3"
  },
  "language_info": {
   "codemirror_mode": {
    "name": "ipython",
    "version": 3
   },
   "file_extension": ".py",
   "mimetype": "text/x-python",
   "name": "python",
   "nbconvert_exporter": "python",
   "pygments_lexer": "ipython3",
   "version": "3.7.4"
  }
 },
 "nbformat": 4,
 "nbformat_minor": 2
}
