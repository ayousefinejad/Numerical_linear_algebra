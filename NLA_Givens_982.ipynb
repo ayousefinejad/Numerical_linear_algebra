{
 "cells": [
  {
   "cell_type": "markdown",
   "metadata": {},
   "source": []
  },
  {
   "cell_type": "code",
   "execution_count": 11,
   "metadata": {},
   "outputs": [],
   "source": [
    "import numpy as np\n",
    "from math import sqrt\n",
    "import copy"
   ]
  },
  {
   "cell_type": "code",
   "execution_count": 12,
   "metadata": {},
   "outputs": [],
   "source": [
    "A = np.array([[6, 5, 0],\n",
    "              [5, 1, 4],\n",
    "              [0, 4, 3]])\n",
    "n = A.shape[0]"
   ]
  },
  {
   "cell_type": "markdown",
   "metadata": {},
   "source": [
    "###  J(p, q)"
   ]
  },
  {
   "cell_type": "code",
   "execution_count": 13,
   "metadata": {
    "scrolled": true
   },
   "outputs": [],
   "source": [
    "Q_ = []\n",
    "A_ = A.copy()\n",
    "\n",
    "\n",
    "for i in range(n-1):   \n",
    "    p = i\n",
    "    Qi = np.eye(n)\n",
    "    \n",
    "    for j in range(i+1, n):\n",
    "        J = np.eye(n)\n",
    "        x = A_[:, i]\n",
    "        q = j\n",
    "        \n",
    "        if x[q] != 0:\n",
    "            if abs(x[p]) >= abs(x[q]):\n",
    "                t = x[p]/x[q]\n",
    "                s = 1/sqrt(1 + pow(t, 2))\n",
    "                c = s*t\n",
    "            else:\n",
    "                t = x[q]/x[p]\n",
    "                c = 1/sqrt(1 + pow(t, 2))\n",
    "                s = c*t\n",
    "                \n",
    "            J[p][p] =  c\n",
    "            J[q][q] =  c\n",
    "            J[p][q] =  s\n",
    "            J[q][p] = -s\n",
    "            \n",
    "            Qi = Qi.dot(J)\n",
    "\n",
    "            A_ = J.dot(A_)\n",
    "            \n",
    "            if abs(A_[j][i]) < 0.00001:\n",
    "                A_[j][i] = 0\n",
    "    Q_.append(Qi)\n",
    "               \n",
    "R = A_\n",
    "\n",
    "Q = np.eye(n)\n",
    "for k in range(len(Q_)):\n",
    "    Q = Q.dot(Q_[k].T)"
   ]
  },
  {
   "cell_type": "code",
   "execution_count": 16,
   "metadata": {},
   "outputs": [
    {
     "name": "stdout",
     "output_type": "stream",
     "text": [
      "Q \n",
      " [[ 0.76822128 -0.33265418 -0.54697099]\n",
      " [ 0.6401844   0.39918502  0.65636519]\n",
      " [ 0.         -0.854396    0.51962244]] \n",
      "\n",
      "R \n",
      " [[ 7.81024968  4.4812908   2.5607376 ]\n",
      " [ 0.         -4.68166987 -0.96644793]\n",
      " [ 0.          0.          4.18432806]] \n",
      "\n",
      "\n",
      " A \n",
      " Q * R \n",
      "\n",
      " [[6 5 0]\n",
      " [5 1 4]\n",
      " [0 4 3]] \n",
      "\n",
      " [[ 6.  5. -0.]\n",
      " [ 5.  1.  4.]\n",
      " [ 0.  4.  3.]]\n"
     ]
    }
   ],
   "source": [
    "print('Q', '\\n', Q, '\\n')\n",
    "print('R', '\\n', R, '\\n\\n')\n",
    "print(' A', '\\n','Q * R', '\\n\\n', A, '\\n\\n', np.round_(Q.dot(R), decimals=8))"
   ]
  },
  {
   "cell_type": "code",
   "execution_count": null,
   "metadata": {},
   "outputs": [],
   "source": []
  }
 ],
 "metadata": {
  "kernelspec": {
   "display_name": "Python 3",
   "language": "python",
   "name": "python3"
  },
  "language_info": {
   "codemirror_mode": {
    "name": "ipython",
    "version": 3
   },
   "file_extension": ".py",
   "mimetype": "text/x-python",
   "name": "python",
   "nbconvert_exporter": "python",
   "pygments_lexer": "ipython3",
   "version": "3.7.4"
  }
 },
 "nbformat": 4,
 "nbformat_minor": 2
}
